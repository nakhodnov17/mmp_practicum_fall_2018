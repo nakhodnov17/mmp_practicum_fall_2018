{
 "cells": [
  {
   "cell_type": "markdown",
   "metadata": {},
   "source": [
    "# Разбор первого контеста\n",
    "\n",
    "## Попов Артём, кафедра ММП ВМК МГУ"
   ]
  },
  {
   "cell_type": "code",
   "execution_count": 1,
   "metadata": {},
   "outputs": [],
   "source": [
    "import time"
   ]
  },
  {
   "cell_type": "markdown",
   "metadata": {},
   "source": [
    "### Импортирование модуля внутри функции"
   ]
  },
  {
   "cell_type": "code",
   "execution_count": 8,
   "metadata": {},
   "outputs": [],
   "source": [
    "def f_with_import(x):\n",
    "    import collections\n",
    "    d = collections.OrderedDict()\n",
    "    for j in range(x):\n",
    "        d[x ** 2 + 2 * x - 10] = x ** 3\n",
    "    return d"
   ]
  },
  {
   "cell_type": "code",
   "execution_count": 9,
   "metadata": {},
   "outputs": [
    {
     "name": "stdout",
     "output_type": "stream",
     "text": [
      "0.08485555648803711\n"
     ]
    }
   ],
   "source": [
    "n_iter = 500\n",
    "start = time.time()\n",
    "for i in range(n_iter):\n",
    "    f_with_import(i)\n",
    "print(time.time() - start)"
   ]
  },
  {
   "cell_type": "code",
   "execution_count": 10,
   "metadata": {},
   "outputs": [],
   "source": [
    "import collections\n",
    "\n",
    "def f_without_import(x):\n",
    "    d = collections.OrderedDict()\n",
    "    for j in range(x):\n",
    "        d[x ** 2 + 2 * x - 10] = x ** 3\n",
    "    return d"
   ]
  },
  {
   "cell_type": "code",
   "execution_count": 11,
   "metadata": {},
   "outputs": [
    {
     "name": "stdout",
     "output_type": "stream",
     "text": [
      "0.07472038269042969\n"
     ]
    }
   ],
   "source": [
    "n_iter = 500\n",
    "start = time.time()\n",
    "for i in range(n_iter):\n",
    "    f_without_import(i)\n",
    "print(time.time() - start)"
   ]
  },
  {
   "cell_type": "markdown",
   "metadata": {},
   "source": [
    "Импортирование модуля внутри функции:\n",
    "\n",
    "* проигрыша во времени нет, все тяжёлые операции импорта происходят во время первого запуска функции \n",
    "\n",
    "* чаще всего портит читаемость кода, но иногда (очень очень очень редко) улучшает читаемость"
   ]
  },
  {
   "cell_type": "markdown",
   "metadata": {},
   "source": [
    "### Использование имён, использующихся в Python"
   ]
  },
  {
   "cell_type": "markdown",
   "metadata": {},
   "source": [
    "Ключевые слова в Python:"
   ]
  },
  {
   "cell_type": "code",
   "execution_count": 22,
   "metadata": {},
   "outputs": [],
   "source": [
    "from keyword import kwlist"
   ]
  },
  {
   "cell_type": "code",
   "execution_count": 28,
   "metadata": {},
   "outputs": [
    {
     "name": "stdout",
     "output_type": "stream",
     "text": [
      "False  ,  None  ,  True  ,  and  ,  as  ,  assert  ,  break  ,  class  ,  continue  ,  def  ,  del  ,  elif  ,  else  ,  except  ,  finally  ,  for  ,  from  ,  global  ,  if  ,  import  ,  in  ,  is  ,  lambda  ,  nonlocal  ,  not  ,  or  ,  pass  ,  raise  ,  return  ,  try  ,  while  ,  with  ,  yield  ,  "
     ]
    }
   ],
   "source": [
    "for keyword in kwlist:\n",
    "    print(keyword, end='  ,  ')"
   ]
  },
  {
   "cell_type": "code",
   "execution_count": 29,
   "metadata": {},
   "outputs": [
    {
     "ename": "SyntaxError",
     "evalue": "can't assign to keyword (<ipython-input-29-1950c547d36b>, line 1)",
     "output_type": "error",
     "traceback": [
      "\u001b[0;36m  File \u001b[0;32m\"<ipython-input-29-1950c547d36b>\"\u001b[0;36m, line \u001b[0;32m1\u001b[0m\n\u001b[0;31m    False = 1\u001b[0m\n\u001b[0m             ^\u001b[0m\n\u001b[0;31mSyntaxError\u001b[0m\u001b[0;31m:\u001b[0m can't assign to keyword\n"
     ]
    }
   ],
   "source": [
    "False = 1"
   ]
  },
  {
   "cell_type": "code",
   "execution_count": 32,
   "metadata": {},
   "outputs": [
    {
     "ename": "SyntaxError",
     "evalue": "can't assign to keyword (<ipython-input-32-c10ce88c9eeb>, line 1)",
     "output_type": "error",
     "traceback": [
      "\u001b[0;36m  File \u001b[0;32m\"<ipython-input-32-c10ce88c9eeb>\"\u001b[0;36m, line \u001b[0;32m1\u001b[0m\n\u001b[0;31m    None = 5\u001b[0m\n\u001b[0m            ^\u001b[0m\n\u001b[0;31mSyntaxError\u001b[0m\u001b[0;31m:\u001b[0m can't assign to keyword\n"
     ]
    }
   ],
   "source": [
    "None = 5"
   ]
  },
  {
   "cell_type": "markdown",
   "metadata": {},
   "source": [
    "Есть не ключевые слова, а built-in функции:"
   ]
  },
  {
   "cell_type": "code",
   "execution_count": 47,
   "metadata": {},
   "outputs": [
    {
     "data": {
      "text/plain": [
       "3"
      ]
     },
     "execution_count": 47,
     "metadata": {},
     "output_type": "execute_result"
    }
   ],
   "source": [
    "len([1, 2, 3])"
   ]
  },
  {
   "cell_type": "code",
   "execution_count": 48,
   "metadata": {},
   "outputs": [],
   "source": [
    "len = lambda x: x"
   ]
  },
  {
   "cell_type": "code",
   "execution_count": 49,
   "metadata": {},
   "outputs": [
    {
     "data": {
      "text/plain": [
       "[1, 2, 3]"
      ]
     },
     "execution_count": 49,
     "metadata": {},
     "output_type": "execute_result"
    }
   ],
   "source": [
    "len([1, 2, 3])"
   ]
  },
  {
   "cell_type": "markdown",
   "metadata": {},
   "source": [
    "Так делать не надо :) "
   ]
  },
  {
   "cell_type": "markdown",
   "metadata": {},
   "source": [
    "Зачем вообще существуют built-in, а не всё является ключевыми словами?\n",
    "\n",
    "Язык развивается, появляются новые типы.\n",
    "\n",
    "Если бы все сущности были ключевыми словами, то при появлении нового типа в новой версии языка, часть програм с большой вероятностью могла бы быть несовместима с этой версией."
   ]
  },
  {
   "cell_type": "markdown",
   "metadata": {},
   "source": [
    "### Как переносить строки?"
   ]
  },
  {
   "cell_type": "code",
   "execution_count": 78,
   "metadata": {},
   "outputs": [],
   "source": [
    "VERY_LONG_NAME_FOR_CONSTANT = [2015, 2016, 2017, 2018]\n",
    "SECOND_CONSTANT_HAS_LONG_NAME_TOO = 1995\n",
    "long_name_for_a_variable = sum([i for i in range(SECOND_CONSTANT_HAS_LONG_NAME_TOO)])\n",
    "\n",
    "\n",
    "very_good_name_for_variable = VERY_LONG_NAME_FOR_CONSTANT * (SECOND_CONSTANT_HAS_LONG_NAME_TOO // long_name_for_a_variable)"
   ]
  },
  {
   "cell_type": "markdown",
   "metadata": {},
   "source": [
    "Первый способ: ставить \\"
   ]
  },
  {
   "cell_type": "code",
   "execution_count": 79,
   "metadata": {},
   "outputs": [],
   "source": [
    "very_good_name_for_variable = VERY_LONG_NAME_FOR_CONSTANT * (SECOND_CONSTANT_HAS_LONG_NAME_TOO // \\\n",
    "                              long_name_for_a_variable)"
   ]
  },
  {
   "cell_type": "code",
   "execution_count": 80,
   "metadata": {},
   "outputs": [],
   "source": [
    "very_good_name_for_variable = VERY_LONG_NAME_FOR_CONSTANT * \\\n",
    "                              (SECOND_CONSTANT_HAS_LONG_NAME_TOO // long_name_for_a_variable)"
   ]
  },
  {
   "cell_type": "markdown",
   "metadata": {},
   "source": [
    "Второй способ: оборачивать в ():"
   ]
  },
  {
   "cell_type": "code",
   "execution_count": 81,
   "metadata": {},
   "outputs": [],
   "source": [
    "very_good_name_for_variable = (VERY_LONG_NAME_FOR_CONSTANT *\n",
    "                              (SECOND_CONSTANT_HAS_LONG_NAME_TOO // long_name_for_a_variable))"
   ]
  },
  {
   "cell_type": "code",
   "execution_count": 82,
   "metadata": {},
   "outputs": [],
   "source": [
    "very_good_name_for_variable = (\n",
    "    VERY_LONG_NAME_FOR_CONSTANT *\n",
    "    (SECOND_CONSTANT_HAS_LONG_NAME_TOO // long_name_for_a_variable)\n",
    ")"
   ]
  },
  {
   "cell_type": "code",
   "execution_count": 89,
   "metadata": {},
   "outputs": [],
   "source": [
    "new_set_of_years = (\n",
    "    set(VERY_LONG_NAME_FOR_CONSTANT)\n",
    "    .union([1995, 1997, 1999, 2001, 2003])\n",
    "    .intersection([2000, 2004, 2008, 2012, 2016, 2018])\n",
    ")"
   ]
  },
  {
   "cell_type": "code",
   "execution_count": 90,
   "metadata": {},
   "outputs": [
    {
     "data": {
      "text/plain": [
       "{2016, 2018}"
      ]
     },
     "execution_count": 90,
     "metadata": {},
     "output_type": "execute_result"
    }
   ],
   "source": [
    "new_set_of_years"
   ]
  }
 ],
 "metadata": {
  "kernelspec": {
   "display_name": "base_py3",
   "language": "python",
   "name": "base_py3"
  },
  "language_info": {
   "codemirror_mode": {
    "name": "ipython",
    "version": 3
   },
   "file_extension": ".py",
   "mimetype": "text/x-python",
   "name": "python",
   "nbconvert_exporter": "python",
   "pygments_lexer": "ipython3",
   "version": "3.6.5"
  }
 },
 "nbformat": 4,
 "nbformat_minor": 2
}
