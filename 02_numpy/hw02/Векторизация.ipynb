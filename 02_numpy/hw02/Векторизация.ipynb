{
 "cells": [
  {
   "cell_type": "markdown",
   "metadata": {
    "heading_collapsed": true
   },
   "source": [
    "## get_max_before_zero"
   ]
  },
  {
   "cell_type": "code",
   "execution_count": 1,
   "metadata": {
    "hidden": true
   },
   "outputs": [],
   "source": [
    "import numpy as np"
   ]
  },
  {
   "cell_type": "code",
   "execution_count": 2,
   "metadata": {
    "hidden": true
   },
   "outputs": [],
   "source": [
    "%load_ext line_profiler"
   ]
  },
  {
   "cell_type": "markdown",
   "metadata": {
    "heading_collapsed": true,
    "hidden": true
   },
   "source": [
    "### Fully vectorized"
   ]
  },
  {
   "cell_type": "code",
   "execution_count": 3,
   "metadata": {
    "hidden": true
   },
   "outputs": [],
   "source": [
    "def get_max_before_zero(x):\n",
    "    cnt_zeros = x.shape[0] - np.count_nonzero(x)\n",
    "    if cnt_zeros == 0 or cnt_zeros == 1 and x[-1] == 0:\n",
    "        return None\n",
    "    idx_after_zero = np.where(np.concatenate([[1], x]) == 0)[0]\n",
    "    idx_after_zero[idx_after_zero > x.shape[0] - 1] = idx_after_zero[0]\n",
    "    return np.max(x[idx_after_zero])"
   ]
  },
  {
   "cell_type": "code",
   "execution_count": 4,
   "metadata": {
    "hidden": true
   },
   "outputs": [
    {
     "name": "stdout",
     "output_type": "stream",
     "text": [
      "27.3 ms ± 4.34 ms per loop (mean ± std. dev. of 7 runs, 10 loops each)\n"
     ]
    }
   ],
   "source": [
    "%%timeit\n",
    "x = np.random.randint(-1000, 1000, 1_000_000)\n",
    "get_max_before_zero(x)"
   ]
  },
  {
   "cell_type": "raw",
   "metadata": {
    "hidden": true
   },
   "source": [
    "%lprun -f get_max_before_zero get_max_before_zero(x)\n",
    "...\n",
    "Function: get_max_before_zero at line 1\n",
    "\n",
    "Line #      Hits         Time  Per Hit   % Time  Line Contents\n",
    "==============================================================\n",
    "     1                                           def get_max_before_zero(x):\n",
    "     2         1       3142.0   3142.0     10.0      cnt_zeros = x.shape[0] - np.count_nonzero(x)\n",
    "     3         1          3.0      3.0      0.0      if cnt_zeros == 0 or cnt_zeros == 1 and x[-1] == 0:\n",
    "     4                                                   return None\n",
    "     5         1      28251.0  28251.0     89.6      idx_after_zero = np.where(np.concatenate([[1], x]) == 0)[0]\n",
    "     6         1         30.0     30.0      0.1      idx_after_zero[idx_after_zero > x.shape[0] - 1] = idx_after_zero[0]\n",
    "     7         1        105.0    105.0      0.3      return np.max(x[idx_after_zero])"
   ]
  },
  {
   "cell_type": "markdown",
   "metadata": {
    "heading_collapsed": true,
    "hidden": true
   },
   "source": [
    "### Non vectorized"
   ]
  },
  {
   "cell_type": "code",
   "execution_count": 5,
   "metadata": {
    "hidden": true
   },
   "outputs": [],
   "source": [
    "def get_max_before_zero_non_vectorized(x):\n",
    "    result = -np.inf\n",
    "    for idx in range(1, x.shape[0]):\n",
    "        if x[idx - 1] == 0:\n",
    "            result = max(result, x[idx])\n",
    "    return result"
   ]
  },
  {
   "cell_type": "code",
   "execution_count": 6,
   "metadata": {
    "hidden": true
   },
   "outputs": [
    {
     "name": "stdout",
     "output_type": "stream",
     "text": [
      "500 ms ± 18.6 ms per loop (mean ± std. dev. of 7 runs, 1 loop each)\n"
     ]
    }
   ],
   "source": [
    "%%timeit\n",
    "x = np.random.randint(-1000, 1000, 1_000_000)\n",
    "get_max_before_zero_non_vectorized(x)"
   ]
  },
  {
   "cell_type": "raw",
   "metadata": {
    "hidden": true
   },
   "source": [
    "%lprun -f get_max_before_zero_non_vectorized get_max_before_zero_non_vectorized(x)\n",
    "...\n",
    "Function: get_max_before_zero_non_vectorized at line 1\n",
    "\n",
    "Line #      Hits         Time  Per Hit   % Time  Line Contents\n",
    "==============================================================\n",
    "     1                                           def get_max_before_zero_non_vectorized(x):\n",
    "     2         1          4.0      4.0      0.0      result = -np.inf\n",
    "     3   1000000     656179.0      0.7     36.2      for idx in range(1, x.shape[0]):\n",
    "     4    999999    1152349.0      1.2     63.7          if x[idx - 1] == 0:\n",
    "     5       506       1913.0      3.8      0.1              result = max(result, x[idx])\n",
    "     6         1          0.0      0.0      0.0      return result"
   ]
  },
  {
   "cell_type": "markdown",
   "metadata": {
    "heading_collapsed": true,
    "hidden": true
   },
   "source": [
    "### Partition vectorized"
   ]
  },
  {
   "cell_type": "code",
   "execution_count": 7,
   "metadata": {
    "hidden": true
   },
   "outputs": [],
   "source": [
    "def get_max_before_zero_partition_vectorized(x):\n",
    "    cnt_zeros = 0\n",
    "    for idx in range(x.shape[0]):\n",
    "        cnt_zeros += x[idx] == 0\n",
    "    if cnt_zeros == 0 or cnt_zeros == 1 and x[-1] == 0:\n",
    "        return None\n",
    "    idx_after_zero = np.where(np.concatenate([[1], x]) == 0)[0]\n",
    "    idx_after_zero[idx_after_zero > x.shape[0] - 1] = idx_after_zero[0]\n",
    "    result = -np.inf\n",
    "    for idx in idx_after_zero:\n",
    "        result = max(x[idx], result)\n",
    "    return result"
   ]
  },
  {
   "cell_type": "code",
   "execution_count": 8,
   "metadata": {
    "hidden": true
   },
   "outputs": [
    {
     "name": "stdout",
     "output_type": "stream",
     "text": [
      "4.23 s ± 22.6 ms per loop (mean ± std. dev. of 7 runs, 1 loop each)\n"
     ]
    }
   ],
   "source": [
    "%%timeit\n",
    "x = np.random.randint(-1000, 1000, 1_000_000)\n",
    "get_max_before_zero_partition_vectorized(x)"
   ]
  },
  {
   "cell_type": "raw",
   "metadata": {
    "hidden": true
   },
   "source": [
    "%lprun -f get_max_before_zero_partition_vectorized get_max_before_zero_partition_vectorized(x) \n",
    "...\n",
    "Function: get_max_before_zero_partition_vectorized at line 1\n",
    "\n",
    "Line #      Hits         Time  Per Hit   % Time  Line Contents\n",
    "==============================================================\n",
    "     1                                           def get_max_before_zero_partition_vectorized(x):\n",
    "     2         1          3.0      3.0      0.0      cnt_zeros = 0\n",
    "     3   1000001     878079.0      0.9     14.3      for idx in range(x.shape[0]):\n",
    "     4   1000000    5254208.0      5.3     85.6          cnt_zeros += x[idx] == 0\n",
    "     5         1         24.0     24.0      0.0      if cnt_zeros == 0 or cnt_zeros == 1 and x[-1] == 0:\n",
    "     6                                                   return None\n",
    "     7         1       4412.0   4412.0      0.1      idx_after_zero = np.where(np.concatenate([[1], x]) == 0)[0]\n",
    "     8         1         29.0     29.0      0.0      idx_after_zero[idx_after_zero > x.shape[0] - 1] = idx_after_zero[0]\n",
    "     9         1          5.0      5.0      0.0      result = -np.inf\n",
    "    10       493        806.0      1.6      0.0      for idx in idx_after_zero:\n",
    "    11       492       1385.0      2.8      0.0          result = max(x[idx], result)\n",
    "    12         1          2.0      2.0      0.0      return result"
   ]
  },
  {
   "cell_type": "markdown",
   "metadata": {
    "heading_collapsed": true
   },
   "source": [
    "## Results"
   ]
  },
  {
   "cell_type": "markdown",
   "metadata": {
    "hidden": true
   },
   "source": [
    "* Как и ожидалось полностью векторизованное решение работает значительно быстрее 2 других вариантов.\n",
    "* При этом, частично векторизованное решение, полученное заменой вычисления предподсчёта с помощью numpy функции на pure python код стало работать значительно медленнее даже решения без векторизации. Как видно, if statements внутри циклов значительно влияют на производительность.\n",
    "* Как итог, можно сказать, что неполная (неэффективная) векторизация может значительно снизить производительность, тогда как правильно векторизованное решение ускоряет исполнение на несколько порядков. "
   ]
  }
 ],
 "metadata": {
  "kernelspec": {
   "display_name": "Python 3",
   "language": "python",
   "name": "python3"
  },
  "language_info": {
   "codemirror_mode": {
    "name": "ipython",
    "version": 3
   },
   "file_extension": ".py",
   "mimetype": "text/x-python",
   "name": "python",
   "nbconvert_exporter": "python",
   "pygments_lexer": "ipython3",
   "version": "3.7.0"
  },
  "nbTranslate": {
   "displayLangs": [
    "*"
   ],
   "hotkey": "alt-t",
   "langInMainMenu": true,
   "sourceLang": "en",
   "targetLang": "fr",
   "useGoogleTranslate": true
  }
 },
 "nbformat": 4,
 "nbformat_minor": 2
}
