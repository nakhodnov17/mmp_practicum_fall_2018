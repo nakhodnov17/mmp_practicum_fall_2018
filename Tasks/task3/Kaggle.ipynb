{
 "cells": [
  {
   "cell_type": "code",
   "execution_count": 42,
   "metadata": {},
   "outputs": [],
   "source": [
    "import math\n",
    "\n",
    "import torch\n",
    "import torch.nn as nn\n",
    "\n",
    "from torch.optim import Adam\n",
    "from torch.utils.data import TensorDataset, DataLoader\n",
    "\n",
    "import pandas as pd\n",
    "from sklearn.model_selection import train_test_split"
   ]
  },
  {
   "cell_type": "code",
   "execution_count": 43,
   "metadata": {},
   "outputs": [],
   "source": [
    "x = pd.read_csv('./data/train_data.csv').drop(['date'], axis=1).values[:, 1:]\n",
    "y = pd.read_csv('./data/train_target.csv').values[:,1]\n",
    "\n",
    "x_validate = pd.read_csv('./data/test_data.csv').drop(['date'], axis=1).values[:, 1:]"
   ]
  },
  {
   "cell_type": "code",
   "execution_count": 44,
   "metadata": {},
   "outputs": [],
   "source": [
    "x_train, x_test, y_train, y_test = train_test_split(x, y, test_size=0.33, random_state=42)"
   ]
  },
  {
   "cell_type": "code",
   "execution_count": 45,
   "metadata": {},
   "outputs": [],
   "source": [
    "# dataset_train = TensorDataset(torch.tensor(x_train, dtype=torch.float64), torch.tensor(y_train, dtype=torch.float64))\n",
    "# dataset_test = TensorDataset(torch.tensor(x_test, dtype=torch.float64), torch.tensor(y_test, dtype=torch.float64))\n",
    "\n",
    "# dataloader_train = DataLoader(dataset_train, batch_size=128)\n",
    "# dataloader_test = DataLoader(dataset_test, batch_size=128)"
   ]
  },
  {
   "cell_type": "code",
   "execution_count": 46,
   "metadata": {},
   "outputs": [],
   "source": [
    "# net = nn.Sequential(\n",
    "#     nn.Linear(18, 10), \n",
    "#     nn.ReLU(),\n",
    "#     nn.Linear(10, 5),\n",
    "#     nn.ReLU(),\n",
    "#     nn.Linear(5, 1)\n",
    "# ).to(dtype=torch.float64)\n",
    "\n",
    "# net = nn.Sequential(\n",
    "#     nn.Linear(18, 1)\n",
    "# ).to(dtype=torch.float64)"
   ]
  },
  {
   "cell_type": "code",
   "execution_count": 47,
   "metadata": {},
   "outputs": [],
   "source": [
    "# optim = Adam(net.parameters(), lr=0.001)\n",
    "# loss_func = nn.MSELoss()"
   ]
  },
  {
   "cell_type": "code",
   "execution_count": 48,
   "metadata": {},
   "outputs": [],
   "source": [
    "# for _ in range(10):\n",
    "#     for x_batch, y_batch in dataloader_train:\n",
    "#         y_batch_predict = net(x_batch)\n",
    "#         loss = (y_batch_predict - y_batch).pow(2).mean()\n",
    "#         loss.backward()\n",
    "#         optim.step()\n",
    "#         optim.zero_grad()\n",
    "        \n",
    "#     loss_train = 0.\n",
    "#     loss_test = 0.\n",
    "#     n_train = len(dataloader_train) * dataloader_train.batch_size\n",
    "#     n_test = len(dataloader_test) * dataloader_test.batch_size\n",
    "#     for x_batch, y_batch in dataloader_train:\n",
    "#         y_batch_predict = net(x_batch)\n",
    "#         loss_train += (y_batch_predict - y_batch).pow(2).sum().item()\n",
    "        \n",
    "#     for x_batch, y_batch in dataloader_test:\n",
    "#         y_batch_predict = net(x_batch)\n",
    "#         loss_test += (y_batch_predict - y_batch).pow(2).sum().item()\n",
    "#     print(math.sqrt(loss_train / n_train), math.sqrt(loss_test / n_test))"
   ]
  },
  {
   "cell_type": "code",
   "execution_count": 49,
   "metadata": {},
   "outputs": [],
   "source": [
    "from sklearn.preprocessing import PolynomialFeatures, MinMaxScaler, Normalizer, StandardScaler\n",
    "from sklearn.ensemble import GradientBoostingRegressor\n",
    "from sklearn.linear_model import LinearRegression\n",
    "\n",
    "from xgboost import XGBRegressor"
   ]
  },
  {
   "cell_type": "code",
   "execution_count": 50,
   "metadata": {},
   "outputs": [],
   "source": [
    "# preprocess = lambda x: PolynomialFeatures(degree=2).fit_transform(MinMaxScaler().fit_transform(x))\n",
    "preprocess = lambda x: MinMaxScaler().fit_transform(x)"
   ]
  },
  {
   "cell_type": "code",
   "execution_count": 51,
   "metadata": {},
   "outputs": [],
   "source": [
    "x_train_pr, x_test_pr, x_validate_pr = preprocess(x_train), preprocess(x_test), preprocess(x_validate)"
   ]
  },
  {
   "cell_type": "code",
   "execution_count": 58,
   "metadata": {},
   "outputs": [],
   "source": [
    "model = XGBRegressor(n_estimators=500, learning_rate=0.07, max_depth=4, n_jobs=16)\n",
    "# model = LinearRegression(n_jobs=16)"
   ]
  },
  {
   "cell_type": "code",
   "execution_count": 59,
   "metadata": {},
   "outputs": [
    {
     "data": {
      "text/plain": [
       "XGBRegressor(base_score=0.5, booster='gbtree', colsample_bylevel=1,\n",
       "       colsample_bytree=1, gamma=0, learning_rate=0.07, max_delta_step=0,\n",
       "       max_depth=4, min_child_weight=1, missing=None, n_estimators=500,\n",
       "       n_jobs=16, nthread=None, objective='reg:linear', random_state=0,\n",
       "       reg_alpha=0, reg_lambda=1, scale_pos_weight=1, seed=None,\n",
       "       silent=True, subsample=1)"
      ]
     },
     "execution_count": 59,
     "metadata": {},
     "output_type": "execute_result"
    }
   ],
   "source": [
    "model.fit(x_train_pr, y_train)"
   ]
  },
  {
   "cell_type": "code",
   "execution_count": 60,
   "metadata": {},
   "outputs": [
    {
     "data": {
      "text/plain": [
       "135.95400834479625"
      ]
     },
     "execution_count": 60,
     "metadata": {},
     "output_type": "execute_result"
    }
   ],
   "source": [
    "(sum((model.predict(x_test_pr) - y_test) ** 2) / y_test.shape[0]) ** (1/2)"
   ]
  },
  {
   "cell_type": "code",
   "execution_count": 56,
   "metadata": {},
   "outputs": [],
   "source": [
    "y_validate = model.predict(x_validate_pr)"
   ]
  },
  {
   "cell_type": "code",
   "execution_count": 57,
   "metadata": {},
   "outputs": [],
   "source": [
    "with open('submission.csv', 'w') as file:\n",
    "    file.write('index,price\\n')\n",
    "    for idx in range(y_validate.shape[0]):\n",
    "        file.write(str(int(x_validate[idx, 0])) + ',' + str(y_validate[idx]) + '\\n')"
   ]
  },
  {
   "cell_type": "code",
   "execution_count": null,
   "metadata": {},
   "outputs": [],
   "source": []
  }
 ],
 "metadata": {
  "kernelspec": {
   "display_name": "Python 3",
   "language": "python",
   "name": "python3"
  },
  "language_info": {
   "codemirror_mode": {
    "name": "ipython",
    "version": 3
   },
   "file_extension": ".py",
   "mimetype": "text/x-python",
   "name": "python",
   "nbconvert_exporter": "python",
   "pygments_lexer": "ipython3",
   "version": "3.7.0"
  }
 },
 "nbformat": 4,
 "nbformat_minor": 2
}
