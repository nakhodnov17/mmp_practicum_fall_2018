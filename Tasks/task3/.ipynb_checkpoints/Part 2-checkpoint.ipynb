{
 "cells": [
  {
   "cell_type": "code",
   "execution_count": 1,
   "metadata": {},
   "outputs": [],
   "source": [
    "import pandas as pd\n",
    "\n",
    "from sklearn.metrics import mean_squared_error\n",
    "from sklearn.model_selection import train_test_split\n",
    "from sklearn.ensemble import GradientBoostingRegressor"
   ]
  },
  {
   "cell_type": "code",
   "execution_count": 2,
   "metadata": {},
   "outputs": [],
   "source": [
    "rmse = lambda y_1, y_2: mean_squared_error(y_1, y_2) ** 0.5"
   ]
  },
  {
   "cell_type": "code",
   "execution_count": 3,
   "metadata": {},
   "outputs": [],
   "source": [
    "def initial_preparations(line):\n",
    "    y, m, d = line['date'].split('-')\n",
    "    line['year'] = int(y)\n",
    "    line['month'] = int(m)\n",
    "    line['day'] = int(d)\n",
    "    \n",
    "    return line"
   ]
  },
  {
   "cell_type": "code",
   "execution_count": 4,
   "metadata": {},
   "outputs": [],
   "source": [
    "x = pd.read_csv('./data/train_data.csv').apply(initial_preparations, axis=1).drop(['index', 'id', 'date'], axis=1)\n",
    "x = pd.get_dummies(x, columns=[]).values[:, 1:]\n",
    "y = pd.read_csv('./data/train_target.csv').values[:,1]\n",
    "\n",
    "validation_data = pd.read_csv('./data/test_data.csv').apply(initial_preparations, axis=1).drop(['id', 'date'], axis=1)\n",
    "idx_submittion = validation_data['index'].values.astype(int)\n",
    "validation_data = pd.get_dummies(validation_data.drop(['index'], axis=1), columns=[])\n",
    "\n",
    "x_submittion = validation_data.values[:, 1:]"
   ]
  },
  {
   "cell_type": "markdown",
   "metadata": {},
   "source": [
    "В качествуе предобработки выполняется преобразование даты в отдельные категориальные признаки --- год и месяц объявления."
   ]
  },
  {
   "cell_type": "code",
   "execution_count": 5,
   "metadata": {},
   "outputs": [],
   "source": [
    "train_size = int(x.shape[0] * 0.66)\n",
    "x_train, x_test, y_train, y_test = x[:train_size], x[train_size:], y[:train_size], y[train_size:]"
   ]
  },
  {
   "cell_type": "markdown",
   "metadata": {},
   "source": [
    "Выполняется разбиение на обучающую и тестовую выборку для проведения локального контроля"
   ]
  },
  {
   "cell_type": "code",
   "execution_count": 6,
   "metadata": {},
   "outputs": [],
   "source": [
    "preprocess = lambda x : x"
   ]
  },
  {
   "cell_type": "code",
   "execution_count": 7,
   "metadata": {},
   "outputs": [],
   "source": [
    "x_pr, x_train_pr, x_test_pr, x_submittion_pr = preprocess(x), preprocess(x_train), preprocess(x_test), preprocess(x_submittion)"
   ]
  },
  {
   "cell_type": "markdown",
   "metadata": {},
   "source": [
    "Различные преобразования признаков не показали увеличения качества на отложенной выборке, поэтому никаких изменений с данными не производится."
   ]
  },
  {
   "cell_type": "code",
   "execution_count": 8,
   "metadata": {},
   "outputs": [],
   "source": [
    "model = GradientBoostingRegressor(\n",
    "    n_estimators=10000, learning_rate=0.008, max_depth=5, max_features='log2', min_samples_leaf=16, loss='huber', subsample=0.8\n",
    ")"
   ]
  },
  {
   "cell_type": "code",
   "execution_count": 9,
   "metadata": {},
   "outputs": [
    {
     "data": {
      "text/plain": [
       "GradientBoostingRegressor(alpha=0.9, criterion='friedman_mse', init=None,\n",
       "             learning_rate=0.008, loss='huber', max_depth=5,\n",
       "             max_features='log2', max_leaf_nodes=None,\n",
       "             min_impurity_decrease=0.0, min_impurity_split=None,\n",
       "             min_samples_leaf=16, min_samples_split=2,\n",
       "             min_weight_fraction_leaf=0.0, n_estimators=10000,\n",
       "             n_iter_no_change=None, presort='auto', random_state=None,\n",
       "             subsample=0.8, tol=0.0001, validation_fraction=0.1, verbose=0,\n",
       "             warm_start=False)"
      ]
     },
     "execution_count": 9,
     "metadata": {},
     "output_type": "execute_result"
    }
   ],
   "source": [
    "model.fit(x_train_pr, y_train)"
   ]
  },
  {
   "cell_type": "code",
   "execution_count": 10,
   "metadata": {},
   "outputs": [
    {
     "name": "stdout",
     "output_type": "stream",
     "text": [
      "Train: 80.2182\n",
      "Test: 116.2049\n"
     ]
    }
   ],
   "source": [
    "print(\"Train: {0:.4f}\".format(rmse(model.predict(x_train_pr), y_train) ))\n",
    "print(\"Test: {0:.4f}\".format(rmse(model.predict(x_test_pr), y_test)))"
   ]
  },
  {
   "cell_type": "markdown",
   "metadata": {},
   "source": [
    "Выполняется обучение и локальное тестирование модели."
   ]
  },
  {
   "cell_type": "code",
   "execution_count": 11,
   "metadata": {},
   "outputs": [
    {
     "data": {
      "text/plain": [
       "GradientBoostingRegressor(alpha=0.9, criterion='friedman_mse', init=None,\n",
       "             learning_rate=0.008, loss='huber', max_depth=5,\n",
       "             max_features='log2', max_leaf_nodes=None,\n",
       "             min_impurity_decrease=0.0, min_impurity_split=None,\n",
       "             min_samples_leaf=16, min_samples_split=2,\n",
       "             min_weight_fraction_leaf=0.0, n_estimators=10000,\n",
       "             n_iter_no_change=None, presort='auto', random_state=None,\n",
       "             subsample=0.8, tol=0.0001, validation_fraction=0.1, verbose=0,\n",
       "             warm_start=False)"
      ]
     },
     "execution_count": 11,
     "metadata": {},
     "output_type": "execute_result"
    }
   ],
   "source": [
    "model.fit(x_pr, y)"
   ]
  },
  {
   "cell_type": "markdown",
   "metadata": {},
   "source": [
    "Обучение финальной модели и создание submittion для тестирующей системы."
   ]
  },
  {
   "cell_type": "code",
   "execution_count": 12,
   "metadata": {},
   "outputs": [
    {
     "name": "stdout",
     "output_type": "stream",
     "text": [
      "All data: 79.5060\n"
     ]
    }
   ],
   "source": [
    "print(\"All data: {0:.4f}\".format(rmse(model.predict(x_pr), y)))"
   ]
  },
  {
   "cell_type": "code",
   "execution_count": 13,
   "metadata": {},
   "outputs": [],
   "source": [
    "y_submittion = model.predict(x_submittion_pr)"
   ]
  },
  {
   "cell_type": "code",
   "execution_count": 14,
   "metadata": {},
   "outputs": [],
   "source": [
    "with open('submission.csv', 'w') as file:\n",
    "    file.write('index,price\\n')\n",
    "    for idx in range(y_submittion.shape[0]):\n",
    "        file.write(\"{0:d},{1:f}\\n\".format(idx_submittion[idx], y_submittion[idx]))"
   ]
  }
 ],
 "metadata": {
  "kernelspec": {
   "display_name": "Python 3",
   "language": "python",
   "name": "python3"
  },
  "language_info": {
   "codemirror_mode": {
    "name": "ipython",
    "version": 3
   },
   "file_extension": ".py",
   "mimetype": "text/x-python",
   "name": "python",
   "nbconvert_exporter": "python",
   "pygments_lexer": "ipython3",
   "version": "3.7.0"
  }
 },
 "nbformat": 4,
 "nbformat_minor": 2
}
